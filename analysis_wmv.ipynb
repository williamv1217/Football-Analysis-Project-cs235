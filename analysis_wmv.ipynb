{
 "cells": [
  {
   "cell_type": "code",
   "execution_count": 1,
   "metadata": {
    "collapsed": true
   },
   "outputs": [
    {
     "data": {
      "text/html": [
       "<script type=\"text/javascript\">window.PlotlyConfig = {MathJaxConfig: 'local'};</script><script type=\"text/javascript\">if (window.MathJax) {MathJax.Hub.Config({SVG: {font: \"STIX-Web\"}});}</script><script>requirejs.config({paths: { 'plotly': ['https://cdn.plot.ly/plotly-latest.min']},});if(!window._Plotly) {require(['plotly'],function(plotly) {window._Plotly=plotly;});}</script>"
      ],
      "text/plain": [
       "<script type=\"text/javascript\">window.PlotlyConfig = {MathJaxConfig: 'local'};</script><script type=\"text/javascript\">if (window.MathJax) {MathJax.Hub.Config({SVG: {font: \"STIX-Web\"}});}</script><script>requirejs.config({paths: { 'plotly': ['https://cdn.plot.ly/plotly-latest.min']},});if(!window._Plotly) {require(['plotly'],function(plotly) {window._Plotly=plotly;});}</script>"
      ]
     },
     "execution_count": 0,
     "metadata": {},
     "output_type": "execute_result"
    }
   ],
   "source": [
    "import plotly as py\n",
    "import plotly.graph_objs as go\n",
    "import pandas as pd\n",
    "\n",
    "py.offline.init_notebook_mode(connected=True)"
   ]
  },
  {
   "cell_type": "code",
   "execution_count": 2,
   "metadata": {},
   "outputs": [],
   "source": [
    "data = pd.read_csv('./football_events/merged.csv')"
   ]
  },
  {
   "cell_type": "code",
   "execution_count": 3,
   "metadata": {},
   "outputs": [
    {
     "name": "stdout",
     "output_type": "stream",
     "text": [
      "<class 'pandas.core.frame.DataFrame'>\nRangeIndex: 941009 entries, 0 to 941008\nData columns (total 33 columns):\nColumn           941009 non-null int64\nid_odsp          941009 non-null object\nid_event         941009 non-null object\nsort_order       941009 non-null int64\ntime             941009 non-null int64\ntext             941009 non-null object\nevent_type       941009 non-null int64\nevent_type2      214293 non-null float64\nside             941009 non-null int64\nevent_team       941009 non-null object\nopponent         941009 non-null object\nplayer           880009 non-null object\nplayer2          291310 non-null object\nshot_place       227459 non-null float64\nshot_outcome     228498 non-null float64\nis_goal          941009 non-null int64\nlocation         467067 non-null float64\nbodypart         229185 non-null float64\nassist_method    941009 non-null int64\nsituation        229137 non-null float64\nfast_break       941009 non-null int64\ndate             941009 non-null object\nseason           941009 non-null int64\nleague           941009 non-null object\nht               941009 non-null object\nat               941009 non-null object\nfthg             941009 non-null int64\nftag             941009 non-null int64\nodd_h            941009 non-null int64\nodd_d            941009 non-null int64\nodd_a            941009 non-null int64\nht_rank          941009 non-null object\nat_rank          941009 non-null object\ndtypes: float64(6), int64(14), object(13)\nmemory usage: 236.9+ MB\n"
     ]
    }
   ],
   "source": [
    "data.info()"
   ]
  },
  {
   "cell_type": "code",
   "execution_count": 4,
   "metadata": {},
   "outputs": [
    {
     "name": "stdout",
     "output_type": "stream",
     "text": [
      "5550 7057 5541\n"
     ]
    }
   ],
   "source": [
    "# total_games_top = data['id_odsp'].nunique()\n",
    "\n",
    "games_home_high = data[(data['side'] == 1) & (data['ht_rank'] == 'high')]['id_odsp']\n",
    "games_away_high = data[(data['side'] == 2) & (data['at_rank'] == 'high')]['id_odsp']\n",
    "\n",
    "total_games_top = games_home_high.nunique() + games_away_high.nunique()\n",
    "\n",
    "games_home_med = data[(data['side'] == 1) & (data['ht_rank'] == 'med')]['id_odsp']\n",
    "games_away_med = data[(data['side'] == 2) & (data['at_rank'] == 'med')]['id_odsp']\n",
    "\n",
    "total_games_med = games_home_med.nunique() + games_away_med.nunique()\n",
    "\n",
    "games_home_low = data[(data['side'] == 1) & (data['ht_rank'] == 'low')]['id_odsp']\n",
    "games_away_low = data[(data['side'] == 2) & (data['at_rank'] == 'low')]['id_odsp']\n",
    "\n",
    "total_games_low = games_home_low.nunique() + games_away_low.nunique()\n",
    "\n",
    "print(total_games_top, total_games_med, total_games_low)"
   ]
  },
  {
   "cell_type": "code",
   "execution_count": null,
   "metadata": {},
   "outputs": [],
   "source": []
  },
  {
   "cell_type": "code",
   "execution_count": 50,
   "metadata": {},
   "outputs": [],
   "source": [
    "goal_home_top = data[(data['is_goal'] == 1) & (data['side'] == 1) & \n",
    "             (data['ht_rank'] == 'high')]['event_type'].count()\n",
    "\n",
    "goal_away_top = data[(data['is_goal'] == 1) & (data['side'] == 2) & \n",
    "             (data['at_rank'] == 'high')]['event_type'].count()"
   ]
  },
  {
   "cell_type": "code",
   "execution_count": 51,
   "metadata": {},
   "outputs": [],
   "source": [
    "goal_home_med = data[(data['is_goal'] == 1) & (data['side'] == 1) & \n",
    "             (data['ht_rank'] == 'med')]['event_type'].count()\n",
    "\n",
    "goal_away_med = data[(data['is_goal'] == 1) & (data['side'] == 2) & \n",
    "             (data['at_rank'] == 'med')]['event_type'].count()"
   ]
  },
  {
   "cell_type": "code",
   "execution_count": 52,
   "metadata": {},
   "outputs": [],
   "source": [
    "goal_home_low = data[(data['is_goal'] == 1) & (data['side'] == 1) & \n",
    "             (data['ht_rank'] == 'low')]['event_type'].count()\n",
    "\n",
    "goal_away_low = data[(data['is_goal'] == 1) & (data['side'] == 2) & \n",
    "             (data['at_rank'] == 'low')]['event_type'].count()"
   ]
  },
  {
   "cell_type": "code",
   "execution_count": 53,
   "metadata": {},
   "outputs": [],
   "source": [
    "top_total_goals = goal_home_top + goal_away_top\n",
    "med_total_goals = goal_home_med + goal_away_med\n",
    "low_total_goals = goal_home_low + goal_away_low\n"
   ]
  },
  {
   "cell_type": "code",
   "execution_count": 8,
   "metadata": {},
   "outputs": [],
   "source": [
    "top_home_percent = round(goal_home_top/top_total_goals * 100, 2)\n",
    "med_home_percent = round(goal_home_med/med_total_goals * 100, 2)\n",
    "low_home_percent = round(goal_home_low/low_total_goals * 100, 2)\n",
    "\n",
    "top_away_percent = round(goal_away_top/top_total_goals * 100, 2)\n",
    "med_away_percent = round(goal_away_med/med_total_goals * 100, 2)\n",
    "low_away_percent = round(goal_away_low/low_total_goals * 100, 2)\n",
    "\n",
    "\n",
    "home_goals_percents = [f'{top_home_percent}%', f'{med_home_percent}%', f'{low_home_percent}%']\n",
    "away_goals_percents = [f'{top_away_percent}%', f'{med_away_percent}%', f'{low_away_percent}%']"
   ]
  },
  {
   "cell_type": "code",
   "execution_count": 9,
   "metadata": {},
   "outputs": [],
   "source": [
    "# def counts(data_type, data_value, team_rank):\n",
    "#     x = data[(data[data_type] == data_value) & (data['side'] == 1) & \n",
    "#              (data['ht_rank'] == team_rank)]\n",
    "#     y = data[(data[data_type] == data_value) & (data['side'] == 2) & \n",
    "#              (data['at_rank'] == team_rank)]\n",
    "#     x_count = x[data_type].value_counts().sum()\n",
    "#     y_count = y[data_type].value_counts().sum()\n",
    "#     return x_count + y_count\n"
   ]
  },
  {
   "cell_type": "code",
   "execution_count": 10,
   "metadata": {},
   "outputs": [
    {
     "data": {
      "text/plain": [
       "'file:///Users/William/Documents/school/gradSchool/fall2018/cs235/project/home_away_goals.html'"
      ]
     },
     "execution_count": 10,
     "metadata": {},
     "output_type": "execute_result"
    }
   ],
   "source": [
    "goals_data_home = go.Bar(\n",
    "                x = ['Top teams', 'Mid teams', 'Bottom teams'],\n",
    "                y = [goal_home_top, goal_home_med, goal_home_low],\n",
    "                text= home_goals_percents,\n",
    "                textposition='auto',\n",
    "                textfont=dict(size=40),\n",
    "                marker=dict(color='rgb(55, 66, 250)'), \n",
    "                hoverinfo = ['y', 'y', 'y'],\n",
    "                hoverlabel=dict(font=dict(size=30)),\n",
    "                name='Home')\n",
    "\n",
    "\n",
    "goals_data_away = go.Bar(\n",
    "                x = ['Top teams', 'Mid teams', 'Bottom teams'],\n",
    "                y = [goal_away_top, goal_away_med, goal_away_low],\n",
    "                text=away_goals_percents,\n",
    "                textposition='auto',\n",
    "                textfont=dict(size=40),\n",
    "                marker=dict(color='rgb(255, 71, 87)'),\n",
    "                hoverinfo= ['y', 'y', 'y'],\n",
    "                hoverlabel=dict(font=dict(size=30)),\n",
    "                name='Away')\n",
    "\n",
    "goals_data = [goals_data_home, goals_data_away]\n",
    "\n",
    "layout = go.Layout(\n",
    "        barmode='group', \n",
    "        font=dict(family='Avenir Medium', size=35),\n",
    "        legend=dict(x=0.9, y=0.9, font=dict(size=50)), hovermode='closest', title='Total Home and Away Goals', xaxis=dict(tickfont=dict(size=40)))\n",
    "        # yaxis=dict(tickfont=dict(size=20)),\n",
    "        # xaxis=dict(tickfont=dict(size=20)),\n",
    "        # legend=dict(font=dict(size=20)))\n",
    "\n",
    "fig = go.Figure(data=goals_data, layout=layout)\n",
    "\n",
    "\n",
    "py.offline.plot(fig, auto_open=True, filename='home_away_goals.html')\n",
    "\n"
   ]
  },
  {
   "cell_type": "code",
   "execution_count": 48,
   "metadata": {},
   "outputs": [],
   "source": [
    "#goals from corners\n",
    "gct_h = data[(data['is_goal'] == 1) & (data['situation'] == 3) & (data['side'] == 1) & \n",
    "             (data['ht_rank'] == 'high')]['event_type'].count()\n",
    "gct_a = data[(data['is_goal'] == 1) & (data['situation'] == 3) & (data['side'] == 2) & \n",
    "             (data['at_rank'] == 'high')]['event_type'].count()\n",
    "\n",
    "gcm_h = data[(data['is_goal'] == 1) & (data['situation'] == 3) & (data['side'] == 1) & \n",
    "             (data['ht_rank'] == 'med')]['event_type'].count()\n",
    "gcm_a = data[(data['is_goal'] == 1) & (data['situation'] == 3) & (data['side'] == 2) & \n",
    "             (data['at_rank'] == 'med')]['event_type'].count()\n",
    "\n",
    "gcl_h = data[(data['is_goal'] == 1) & (data['situation'] == 3) & (data['side'] == 1) & \n",
    "             (data['ht_rank'] == 'low')]['event_type'].count()\n",
    "gcl_a = data[(data['is_goal'] == 1) & (data['situation'] == 3) & (data['side'] == 2) & \n",
    "             (data['at_rank'] == 'low')]['event_type'].count()\n",
    "\n",
    "\n",
    "goal_corner_top = gct_h + gct_a\n",
    "goal_corner_med = gcm_h + gcm_a\n",
    "goal_corner_low = gcl_h + gcl_a"
   ]
  },
  {
   "cell_type": "code",
   "execution_count": 49,
   "metadata": {},
   "outputs": [
    {
     "name": "stdout",
     "output_type": "stream",
     "text": [
      "1006\n1021\n698\n"
     ]
    }
   ],
   "source": [
    "print(goal_corner_top)\n",
    "print(goal_corner_med)\n",
    "print(goal_corner_low)"
   ]
  },
  {
   "cell_type": "code",
   "execution_count": 46,
   "metadata": {},
   "outputs": [],
   "source": [
    "#goals from open play\n",
    "to_h = data[(data['is_goal'] == 1) & (data['situation'] == 1) & (data['side'] == 1) & \n",
    "             (data['ht_rank'] == 'high')]['event_type'].count()\n",
    "to_a = data[(data['is_goal'] == 1) & (data['situation'] == 1) & (data['side'] == 2) & \n",
    "             (data['at_rank'] == 'high')]['event_type'].count()\n",
    "\n",
    "mo_h = data[(data['is_goal'] == 1) & (data['situation'] == 1) & (data['side'] == 1) & \n",
    "             (data['ht_rank'] == 'med')]['event_type'].count()\n",
    "mo_a = data[(data['is_goal'] == 1) & (data['situation'] == 1) & (data['side'] == 2) & \n",
    "             (data['at_rank'] == 'med')]['event_type'].count()\n",
    "\n",
    "lo_h = data[(data['is_goal'] == 1) & (data['situation'] == 1) & (data['side'] == 1) & \n",
    "             (data['ht_rank'] == 'low')]['event_type'].count()\n",
    "lo_a = data[(data['is_goal'] == 1) & (data['situation'] == 1) & (data['side'] == 2) & \n",
    "             (data['at_rank'] == 'low')]['event_type'].count()\n",
    "\n",
    "\n",
    "goal_openplay_top = to_h + to_a\n",
    "goal_openplay_med = mo_h + mo_a\n",
    "goal_openplay_low = lo_h + lo_a\n"
   ]
  },
  {
   "cell_type": "code",
   "execution_count": 47,
   "metadata": {},
   "outputs": [
    {
     "name": "stdout",
     "output_type": "stream",
     "text": [
      "7461\n6010\n3837\n"
     ]
    }
   ],
   "source": [
    "print(goal_openplay_top)\n",
    "print(goal_openplay_med)\n",
    "print(goal_openplay_low)\n"
   ]
  },
  {
   "cell_type": "code",
   "execution_count": 44,
   "metadata": {},
   "outputs": [],
   "source": [
    "#goals from set-pieces play\n",
    "tsp_h = data[(data['is_goal'] == 1) & (data['situation'] == 2) & (data['side'] == 1) & \n",
    "             (data['ht_rank'] == 'high')]['event_type'].count()\n",
    "tsp_a = data[(data['is_goal'] == 1) & (data['situation'] == 2) & (data['side'] == 2) & \n",
    "             (data['at_rank'] == 'high')]['event_type'].count()\n",
    "\n",
    "msp_h = data[(data['is_goal'] == 1) & (data['situation'] == 2) & (data['side'] == 1) & \n",
    "             (data['ht_rank'] == 'med')]['event_type'].count()\n",
    "msp_a = data[(data['is_goal'] == 1) & (data['situation'] == 2) & (data['side'] == 2) & \n",
    "             (data['at_rank'] == 'med')]['event_type'].count()\n",
    "\n",
    "lsp_h = data[(data['is_goal'] == 1) & (data['situation'] == 2) & (data['side'] == 1) & \n",
    "             (data['ht_rank'] == 'low')]['event_type'].count()\n",
    "lsp_a = data[(data['is_goal'] == 1) & (data['situation'] == 2) & (data['side'] == 2) & \n",
    "             (data['at_rank'] == 'low')]['event_type'].count()\n",
    "\n",
    "\n",
    "goal_setpiece_top = tsp_h + tsp_a\n",
    "goal_setpiece_med = msp_h + msp_a\n",
    "goal_setpiece_low = lsp_h + lsp_a\n"
   ]
  },
  {
   "cell_type": "code",
   "execution_count": 45,
   "metadata": {},
   "outputs": [
    {
     "name": "stdout",
     "output_type": "stream",
     "text": [
      "1409\n1341\n921\n"
     ]
    }
   ],
   "source": [
    "print(goal_setpiece_top)\n",
    "print(goal_setpiece_med)\n",
    "print(goal_setpiece_low)"
   ]
  },
  {
   "cell_type": "code",
   "execution_count": 42,
   "metadata": {},
   "outputs": [],
   "source": [
    "#goals from freekicks play\n",
    "tfk_h = data[(data['is_goal'] == 1) & (data['situation'] == 4) & (data['side'] == 1) & \n",
    "             (data['ht_rank'] == 'high')]['event_type'].count()\n",
    "tfk_a = data[(data['is_goal'] == 1) & (data['situation'] == 4) & (data['side'] == 2) & \n",
    "             (data['at_rank'] == 'high')]['event_type'].count()\n",
    "\n",
    "mfk_h = data[(data['is_goal'] == 1) & (data['situation'] == 4) & (data['side'] == 1) & \n",
    "             (data['ht_rank'] == 'med')]['event_type'].count()\n",
    "mfk_a = data[(data['is_goal'] == 1) & (data['situation'] == 4) & (data['side'] == 2) & \n",
    "             (data['at_rank'] == 'med')]['event_type'].count()\n",
    "\n",
    "lfk_h = data[(data['is_goal'] == 1) & (data['situation'] == 4) & (data['side'] == 1) & \n",
    "             (data['ht_rank'] == 'low')]['event_type'].count()\n",
    "lfk_a = data[(data['is_goal'] == 1) & (data['situation'] == 4) & (data['side'] == 2) & \n",
    "             (data['at_rank'] == 'low')]['event_type'].count()\n",
    "\n",
    "\n",
    "goal_freekick_top = tfk_h + tfk_a\n",
    "goal_freekick_med = mfk_h + mfk_a\n",
    "goal_freekick_low = lfk_h + lfk_a\n"
   ]
  },
  {
   "cell_type": "code",
   "execution_count": 43,
   "metadata": {},
   "outputs": [
    {
     "name": "stdout",
     "output_type": "stream",
     "text": [
      "286\n267\n184\n"
     ]
    }
   ],
   "source": [
    "print(goal_freekick_top)\n",
    "print(goal_freekick_med)\n",
    "print(goal_freekick_low)"
   ]
  },
  {
   "cell_type": "code",
   "execution_count": 19,
   "metadata": {},
   "outputs": [
    {
     "data": {
      "text/plain": [
       "'file:///Users/William/Documents/school/gradSchool/fall2018/cs235/project/top_teams_goal_pie_chart.html'"
      ]
     },
     "execution_count": 19,
     "metadata": {},
     "output_type": "execute_result"
    }
   ],
   "source": [
    "labels = ['Open Play','Set piece','Corner Kick','Free Kick']\n",
    "values = [goal_openplay_top, goal_setpiece_top, goal_corner_top, goal_freekick_top]\n",
    "\n",
    "\n",
    "top_teams_goals_from = go.Pie(\n",
    "                    labels=labels, \n",
    "                    values=values,\n",
    "                    textinfo='percent',\n",
    "                    title='Top Teams Goal Types',\n",
    "                    titlefont=dict(size=40))\n",
    "\n",
    "\n",
    "layout = go.Layout(         \n",
    "        font=dict(size=35),\n",
    "        legend=dict(x=0.7, y=1, font=dict(size=40)))\n",
    "\n",
    "\n",
    "\n",
    "fig = go.Figure(data=[top_teams_goals_from], layout=layout)\n",
    "\n",
    "\n",
    "py.offline.plot(fig, filename='top_teams_goal_pie_chart.html')\n",
    "\n"
   ]
  },
  {
   "cell_type": "code",
   "execution_count": 20,
   "metadata": {},
   "outputs": [
    {
     "data": {
      "text/plain": [
       "'file:///Users/William/Documents/school/gradSchool/fall2018/cs235/project/med_teams_goal_pie_chart.html'"
      ]
     },
     "execution_count": 20,
     "metadata": {},
     "output_type": "execute_result"
    }
   ],
   "source": [
    "labels = ['Open Play','Set piece','Corner Kick','Free Kick']\n",
    "values = [goal_openplay_med, goal_setpiece_med, goal_corner_med, goal_freekick_med]\n",
    "\n",
    "\n",
    "med_teams_goals_from = go.Pie(\n",
    "                    labels=labels, \n",
    "                    values=values,\n",
    "                    textinfo='percent',\n",
    "                    title='Mid Teams Goal Types',\n",
    "                    titlefont=dict(size=40))\n",
    "\n",
    "\n",
    "layout = go.Layout(         \n",
    "        font=dict(size=35),\n",
    "        legend=dict(x=0.7, y=1, font=dict(size=40)))\n",
    "\n",
    "fig = go.Figure(data=[med_teams_goals_from], layout=layout)\n",
    "\n",
    "\n",
    "py.offline.plot(fig, filename='med_teams_goal_pie_chart.html')\n",
    "\n"
   ]
  },
  {
   "cell_type": "code",
   "execution_count": 21,
   "metadata": {},
   "outputs": [
    {
     "data": {
      "text/plain": [
       "'file:///Users/William/Documents/school/gradSchool/fall2018/cs235/project/low_teams_goal_pie_chart.html'"
      ]
     },
     "execution_count": 21,
     "metadata": {},
     "output_type": "execute_result"
    }
   ],
   "source": [
    "labels = ['Open Play','Set piece','Corner Kick','Free Kick']\n",
    "values = [goal_openplay_low, goal_setpiece_low, goal_corner_low, goal_freekick_low]\n",
    "\n",
    "\n",
    "low_teams_goals_from = go.Pie(\n",
    "                    labels=labels, \n",
    "                    values=values,\n",
    "                    textinfo='percent',\n",
    "                    title='Bottom Teams Goal Types',\n",
    "                    titlefont=dict(size=40))\n",
    "\n",
    "\n",
    "layout = go.Layout(         \n",
    "        font=dict(size=35),\n",
    "        legend=dict(x=0.7, y=1, font=dict(size=40)))\n",
    "\n",
    "fig = go.Figure(data=[low_teams_goals_from], layout=layout)\n",
    "\n",
    "\n",
    "py.offline.plot(fig, filename='low_teams_goal_pie_chart.html')\n",
    "\n"
   ]
  },
  {
   "cell_type": "code",
   "execution_count": 22,
   "metadata": {},
   "outputs": [
    {
     "data": {
      "text/plain": [
       "'file:///Users/William/Documents/school/gradSchool/fall2018/cs235/project/tester1.html'"
      ]
     },
     "execution_count": 22,
     "metadata": {},
     "output_type": "execute_result"
    }
   ],
   "source": [
    "top_lab = ['Open Play','Set Piece','Corner Kick','Free Kick']\n",
    "top_val = [goal_openplay_top, goal_setpiece_top, goal_corner_top, goal_freekick_top]\n",
    "colorsss = ['rgb(6, 82, 221)', 'rgb(250, 152, 58)', \n",
    "            'rgb(11, 232, 129)', \n",
    "            'rgb(245, 59, 87)']\n",
    "\n",
    "med_lab = ['Open Play','Set Piece','Corner Kick','Free Kick']\n",
    "med_val = [goal_openplay_med, goal_setpiece_med, goal_corner_med, goal_freekick_med]\n",
    "\n",
    "low_lab = ['Open Play','Set Piece','Corner Kick','Free Kick']\n",
    "low_val = [goal_openplay_low, goal_setpiece_low, goal_corner_low, goal_freekick_low]\n",
    "\n",
    "x = go.Pie(\n",
    "    labels=top_lab,\n",
    "    values=top_val,\n",
    "    marker=dict(colors=colorsss),\n",
    "    textinfo='percent',\n",
    "    title='Top Teams',\n",
    "    titleposition='bottom center',\n",
    "    domain={'x': [0.10, 0.35]})\n",
    "\n",
    "y = go.Pie(\n",
    "    labels=med_lab,\n",
    "    values=med_val,\n",
    "    textinfo='percent',\n",
    "    title='Mid Teams',\n",
    "    titleposition='bottom center',\n",
    "    domain={'x': [0.40, 0.65]})\n",
    "\n",
    "z = go.Pie(\n",
    "    labels=low_lab,\n",
    "    values=low_val,\n",
    "    textinfo='percent',\n",
    "    title='Bottom Teams',\n",
    "    titleposition='bottom center',\n",
    "    domain={'x': [0.70, 0.95]})\n",
    "\n",
    "layout = go.Layout( \n",
    "    font=dict(family='Avenir Heavy', size=40),\n",
    "    legend=dict(x=0.49, y=0.9, font=dict(size=40))\n",
    ")\n",
    "\n",
    "fig=go.Figure(data=[x, y, z], layout=layout)\n",
    "py.offline.plot(fig, filename='tester1.html')\n",
    "\n",
    "\n",
    "\n",
    "\n",
    "\n"
   ]
  },
  {
   "cell_type": "code",
   "execution_count": 66,
   "metadata": {},
   "outputs": [
    {
     "name": "stdout",
     "output_type": "stream",
     "text": [
      "270\n246\n185\n"
     ]
    }
   ],
   "source": [
    "# own goals\n",
    "# needed to switch 'side' because own goal field shows the team that \n",
    "# benefits from the own goal, not the team that made the mistake\n",
    "\n",
    "own_goals_lowA = data[(data['event_type2'] == 15) & (data['side'] == 2) & \n",
    "                     (data['ht_rank'] == 'low')]['event_type'].count()\n",
    "own_goals_lowB = data[(data['event_type2'] == 15) & (data['side'] == 1) & \n",
    "                     (data['at_rank'] == 'low')]['event_type'].count()\n",
    "own_goals_low = own_goals_lowA + own_goals_lowB\n",
    "\n",
    "own_goals_medA = data[(data['event_type2'] == 15) & (data['side'] == 2) & \n",
    "                     (data['ht_rank'] == 'med')]['event_type'].count()\n",
    "own_goals_medB = data[(data['event_type2'] == 15) & (data['side'] == 1) & \n",
    "                     (data['at_rank'] == 'med')]['event_type'].count()\n",
    "own_goals_med = own_goals_medA + own_goals_medB\n",
    "\n",
    "own_goals_highA = data[(data['event_type2'] == 15) & (data['side'] == 2) & \n",
    "                     (data['ht_rank'] == 'high')]['event_type'].count()\n",
    "own_goals_highB = data[(data['event_type2'] == 15) & (data['side'] == 1) & \n",
    "                     (data['at_rank'] == 'high')]['event_type'].count()\n",
    "own_goals_high = own_goals_highA + own_goals_highB\n",
    "\n",
    "print(own_goals_low)\n",
    "print(own_goals_med)\n",
    "print(own_goals_high)\n",
    "\n",
    "owng_gameT = own_goals_high/total_games_top\n",
    "owng_gameM = own_goals_med/total_games_med\n",
    "owng_gameL = own_goals_low/total_games_low"
   ]
  },
  {
   "cell_type": "code",
   "execution_count": 67,
   "metadata": {},
   "outputs": [
    {
     "data": {
      "text/plain": [
       "'file:///Users/William/Documents/school/gradSchool/fall2018/cs235/project/own_goals.html'"
      ]
     },
     "execution_count": 67,
     "metadata": {},
     "output_type": "execute_result"
    }
   ],
   "source": [
    "colors = ['rgb(112, 161, 255)', 'rgb(123, 237, 159)', 'rgb(255, 165, 2)']\n",
    "own_goals = go.Bar(\n",
    "                x = ['Top teams', 'Mid teams', 'Bottom teams'],\n",
    "                y = [owng_gameT, owng_gameM, owng_gameL],\n",
    "                text= [round(owng_gameT, 3), round(owng_gameM, 3), round(owng_gameL, 3)],\n",
    "                textposition='outside',\n",
    "                textfont=dict(size=40),\n",
    "                marker=dict(color=colors), \n",
    "                hoverinfo = ['y', 'y', 'y'],\n",
    "                hoverlabel=dict(font=dict(size=30)),\n",
    "                name='Home')\n",
    "\n",
    "\n",
    "\n",
    "goals_data = [own_goals]\n",
    "\n",
    "layout = go.Layout(\n",
    "        font=dict(family='Avenir Medium', size=35),\n",
    "        legend=dict(x=0.9, y=0.9, font=dict(size=50)), hovermode='closest', title='Own Goals per game by team level', xaxis=dict(tickfont=dict(size=40)))\n",
    "        # yaxis=dict(tickfont=dict(size=20)),\n",
    "        # xaxis=dict(tickfont=dict(size=20)),\n",
    "        # legend=dict(font=dict(size=20)))\n",
    "\n",
    "fig = go.Figure(data=goals_data, layout=layout)\n",
    "\n",
    "py.offline.plot(fig, auto_open=True, filename='own_goals.html')"
   ]
  },
  {
   "cell_type": "code",
   "execution_count": 38,
   "metadata": {},
   "outputs": [],
   "source": [
    "# offsides\n",
    "off_lowA = data[(data['event_type'] == 9) & (data['side'] == 1) & (data['ht_rank'] == 'low')]['event_type'].count()\n",
    "off_lowB = data[(data['event_type'] == 9) & (data['side'] == 2) & (data['at_rank'] == 'low')]['event_type'].count()\n",
    "offsides_low = off_lowA + off_lowB\n",
    "\n",
    "off_medA = data[(data['event_type'] == 9) & (data['side'] == 1) & (data['ht_rank'] == 'med')]['event_type'].count()\n",
    "off_medB = data[(data['event_type'] == 9) & (data['side'] == 2) & (data['at_rank'] == 'med')]['event_type'].count()\n",
    "offsides_med = off_medA + off_medB\n",
    "\n",
    "off_highA = data[(data['event_type'] == 9) & (data['side'] == 1) & (data['ht_rank'] == 'high')]['event_type'].count()\n",
    "off_highB = data[(data['event_type'] == 9) & (data['side'] == 2) & (data['at_rank'] == 'high')]['event_type'].count()\n",
    "offsides_high = off_highA + off_highB\n",
    "\n",
    "offs_gameT = offsides_high/total_games_top\n",
    "offs_gameM = offsides_med/total_games_med\n",
    "offs_gameL = offsides_low/total_games_low"
   ]
  },
  {
   "cell_type": "code",
   "execution_count": 39,
   "metadata": {},
   "outputs": [
    {
     "data": {
      "text/plain": [
       "'file:///Users/William/Documents/school/gradSchool/fall2018/cs235/project/offsides.html'"
      ]
     },
     "execution_count": 39,
     "metadata": {},
     "output_type": "execute_result"
    }
   ],
   "source": [
    "colors = ['rgb(112, 161, 255)', 'rgb(123, 237, 159)', 'rgb(255, 165, 2)']\n",
    "\n",
    "offsides = go.Bar(\n",
    "                x = ['Top teams', 'Mid teams', 'Bottom teams'],\n",
    "                y = [offs_gameT, offs_gameM, offs_gameL],\n",
    "                text= [round(offs_gameT, 3), round(offs_gameM, 3), round(offs_gameL, 3)],\n",
    "                textposition='outside',\n",
    "                textfont=dict(size=40),\n",
    "                marker=dict(color=colors), \n",
    "                hoverinfo = ['y', 'y', 'y'],\n",
    "                hoverlabel=dict(font=dict(size=30)),\n",
    "                name='Home')\n",
    "\n",
    "\n",
    "\n",
    "off_data = [offsides]\n",
    "\n",
    "layout = go.Layout(\n",
    "        font=dict(family='Avenir Medium', size=35),\n",
    "        legend=dict(x=0.9, y=0.9, font=dict(size=50)), hovermode='closest', title='Offsides per game by team level', xaxis=dict(tickfont=dict(size=40)))\n",
    "        # yaxis=dict(tickfont=dict(size=20)),\n",
    "        # xaxis=dict(tickfont=dict(size=20)),\n",
    "        # legend=dict(font=dict(size=20)))\n",
    "\n",
    "fig = go.Figure(data=off_data, layout=layout)\n",
    "\n",
    "py.offline.plot(fig, auto_open=True, filename='offsides.html')"
   ]
  },
  {
   "cell_type": "code",
   "execution_count": 93,
   "metadata": {},
   "outputs": [
    {
     "name": "stdout",
     "output_type": "stream",
     "text": [
      "10162 8639 5645\n4.82\n"
     ]
    }
   ],
   "source": [
    "# luck of a team is decided by how many times they hit the bar on a shot vs how many times they scored.\n",
    "bar_highH = data[(data['shot_outcome'] == 4) & (data['side'] == 1) & (data['ht_rank'] == 'high')]['event_type'].count()\n",
    "bar_highA = data[(data['shot_outcome'] == 4) & (data['side'] == 2) & (data['at_rank'] == 'high')]['event_type'].count()\n",
    "bar_medH = data[(data['shot_outcome'] == 4) & (data['side'] == 1) & (data['ht_rank'] == 'med')]['event_type'].count()\n",
    "bar_medA = data[(data['shot_outcome'] == 4) & (data['side'] == 2) & (data['at_rank'] == 'med')]['event_type'].count()\n",
    "bar_lowH = data[(data['shot_outcome'] == 4) & (data['side'] == 1) & (data['ht_rank'] == 'low')]['event_type'].count()\n",
    "bar_lowA = data[(data['shot_outcome'] == 4) & (data['side'] == 2) & (data['at_rank'] == 'low')]['event_type'].count()\n",
    "\n",
    "\n",
    "bar_high = bar_highH + bar_highA\n",
    "bar_med = bar_medH + bar_medA\n",
    "bar_low = bar_lowH + bar_lowA\n",
    "\n",
    "\n",
    "on_tar_highH = data[(data['shot_outcome'] == 1) & (data['side'] == 1) & (data['ht_rank'] == 'high')]['event_type'].count()\n",
    "on_tar_highA = data[(data['shot_outcome'] == 1) & (data['side'] == 2) & (data['at_rank'] == 'high')]['event_type'].count()\n",
    "on_tar_medH = data[(data['shot_outcome'] == 1) & (data['side'] == 1) & (data['ht_rank'] == 'med')]['event_type'].count()\n",
    "on_tar_medA = data[(data['shot_outcome'] == 1) & (data['side'] == 2) & (data['at_rank'] == 'med')]['event_type'].count()\n",
    "on_tar_lowH = data[(data['shot_outcome'] == 1) & (data['side'] == 1) & (data['ht_rank'] == 'low')]['event_type'].count()\n",
    "on_tar_lowA = data[(data['shot_outcome'] == 1) & (data['side'] == 2) & (data['at_rank'] == 'low')]['event_type'].count()\n",
    "\n",
    "off_tar_highH = data[(data['shot_outcome'] == 2) & (data['side'] == 1) & (data['ht_rank'] == 'high')]['event_type'].count()\n",
    "off_tar_highA = data[(data['shot_outcome'] == 2) & (data['side'] == 2) & (data['at_rank'] == 'high')]['event_type'].count()\n",
    "off_tar_medH = data[(data['shot_outcome'] == 2) & (data['side'] == 1) & (data['ht_rank'] == 'med')]['event_type'].count()\n",
    "off_tar_medA = data[(data['shot_outcome'] == 2) & (data['side'] == 2) & (data['at_rank'] == 'med')]['event_type'].count()\n",
    "off_tar_lowH = data[(data['shot_outcome'] == 2) & (data['side'] == 1) & (data['ht_rank'] == 'low')]['event_type'].count()\n",
    "off_tar_lowA = data[(data['shot_outcome'] == 2) & (data['side'] == 2) & (data['at_rank'] == 'low')]['event_type'].count()\n",
    "\n",
    "\n",
    "\n",
    "attempts_highH = data[(data['event_type'] == 1) & (data['side'] == 1) & (data['ht_rank'] == 'high')]['event_type'].count()\n",
    "attempts_highA = data[(data['event_type'] == 1) & (data['side'] == 2) & (data['at_rank'] == 'high')]['event_type'].count()\n",
    "attempts_medH = data[(data['event_type'] == 1) & (data['side'] == 1) & (data['ht_rank'] == 'med')]['event_type'].count()\n",
    "attempts_medA = data[(data['event_type'] == 1) & (data['side'] == 2) & (data['at_rank'] == 'med')]['event_type'].count()\n",
    "attempts_lowH = data[(data['event_type'] == 1) & (data['side'] == 1) & (data['ht_rank'] == 'low')]['event_type'].count()\n",
    "attempts_lowA = data[(data['event_type'] == 1) & (data['side'] == 2) & (data['at_rank'] == 'low')]['event_type'].count()\n",
    "\n",
    "\n",
    "on_tar_high = on_tar_highH + on_tar_highA\n",
    "on_tar_med = on_tar_medH + on_tar_medA\n",
    "on_tar_low = on_tar_lowH + on_tar_lowA\n",
    "\n",
    "off_tar_high = off_tar_highH + off_tar_highA\n",
    "off_tar_med = off_tar_medH + off_tar_medA\n",
    "off_tar_low = off_tar_lowH + off_tar_lowA\n",
    "\n",
    "attempts_high = attempts_highH + attempts_highA\n",
    "attempts_med = attempts_medH + attempts_medA\n",
    "attempts_low = attempts_lowH + attempts_lowA\n",
    "\n",
    "\n",
    "print(top_total_goals, med_total_goals, low_total_goals)\n",
    "print(round((bar_high/on_tar_high) * 100, 2))\n"
   ]
  },
  {
   "cell_type": "code",
   "execution_count": 94,
   "metadata": {},
   "outputs": [
    {
     "name": "stdout",
     "output_type": "stream",
     "text": [
      "4.82\n"
     ]
    },
    {
     "data": {
      "text/plain": [
       "'file:///Users/William/Documents/school/gradSchool/fall2018/cs235/project/offsides.html'"
      ]
     },
     "execution_count": 94,
     "metadata": {},
     "output_type": "execute_result"
    }
   ],
   "source": [
    "\n",
    "sluck_high = round((bar_high/on_tar_high) * 100, 2)\n",
    "print(sluck_high)\n",
    "sluck_med = round((bar_med/on_tar_med) * 100, 2)\n",
    "sluck_low = round((bar_low/on_tar_low) * 100, 2)\n",
    "\n",
    "colors = ['rgb(112, 161, 255)', 'rgb(123, 237, 159)', 'rgb(255, 165, 2)']\n",
    "\n",
    "shot_luck = go.Bar(\n",
    "                x = ['Top teams', 'Mid teams', 'Bottom teams'],\n",
    "                y = [sluck_high, sluck_med, sluck_low],\n",
    "                text= [f'{sluck_high}%', f'{sluck_med}%', f'{sluck_low}%'],\n",
    "                textposition='outside',\n",
    "                textfont=dict(size=40),\n",
    "                marker=dict(color=colors), \n",
    "                hoverinfo = ['y', 'y', 'y'],\n",
    "                hoverlabel=dict(font=dict(size=30)),\n",
    "                name='Home')\n",
    "\n",
    "layout = go.Layout(\n",
    "        font=dict(family='Avenir Medium', size=35),\n",
    "        legend=dict(x=0.9, y=0.9, font=dict(size=50)), hovermode='closest', title='% of shots on target that hit the bar', xaxis=dict(tickfont=dict(size=40)))\n",
    "        # yaxis=dict(tickfont=dict(size=20)),\n",
    "        # xaxis=dict(tickfont=dict(size=20)),\n",
    "        # legend=dict(font=dict(size=20)))\n",
    "\n",
    "fig = go.Figure(data=[shot_luck], layout=layout)\n",
    "\n",
    "py.offline.plot(fig, auto_open=True, filename='offsides.html')"
   ]
  },
  {
   "cell_type": "code",
   "execution_count": null,
   "metadata": {},
   "outputs": [],
   "source": []
  },
  {
   "cell_type": "code",
   "execution_count": 99,
   "metadata": {},
   "outputs": [
    {
     "data": {
      "text/plain": [
       "'file:///Users/William/Documents/school/gradSchool/fall2018/cs235/project/offsides.html'"
      ]
     },
     "execution_count": 99,
     "metadata": {},
     "output_type": "execute_result"
    }
   ],
   "source": [
    "\n",
    "offtarget_high_perc = round((off_tar_high/attempts_high) * 100, 2)\n",
    "offtarget_med_perc = round((off_tar_med/attempts_med) * 100, 2)\n",
    "offtarget_low_perc = round((off_tar_low/attempts_low) * 100, 2)\n",
    "\n",
    "colors = ['rgb(112, 161, 255)', 'rgb(123, 237, 159)', 'rgb(255, 165, 2)']\n",
    "\n",
    "on_target = go.Bar(\n",
    "                x = ['Top teams', 'Mid teams', 'Bottom teams'],\n",
    "                y = [(100 - offtarget_high_perc), (100 - offtarget_med_perc), (100 - offtarget_low_perc)],\n",
    "                text= [f'{(100 - offtarget_high_perc)}%', f'{(100 - offtarget_med_perc)}%', f'{(100 - offtarget_low_perc)}%'],\n",
    "                textposition='outside',\n",
    "                textfont=dict(size=40),\n",
    "                marker=dict(color=colors), \n",
    "                hoverinfo = ['y', 'y', 'y'],\n",
    "                hoverlabel=dict(font=dict(size=30)),\n",
    "                name='On Target')\n",
    "\n",
    "\n",
    "layout = go.Layout(\n",
    "        font=dict(family='Avenir Medium', size=35),\n",
    "        legend=dict(x=0.9, y=0.9, font=dict(size=50)), hovermode='closest', title='% of shots on/off target', xaxis=dict(tickfont=dict(size=40)))\n",
    "        # yaxis=dict(tickfont=dict(size=20)),\n",
    "        # xaxis=dict(tickfont=dict(size=20)),\n",
    "        # legend=dict(font=dict(size=20)))\n",
    "\n",
    "data = [on_target]\n",
    "        \n",
    "\n",
    "fig = go.Figure(data=data, layout=layout)\n",
    "\n",
    "py.offline.plot(fig, auto_open=True, filename='offsides.html')"
   ]
  },
  {
   "cell_type": "code",
   "execution_count": null,
   "metadata": {},
   "outputs": [],
   "source": []
  },
  {
   "cell_type": "code",
   "execution_count": null,
   "metadata": {},
   "outputs": [],
   "source": []
  },
  {
   "cell_type": "code",
   "execution_count": null,
   "metadata": {},
   "outputs": [],
   "source": []
  },
  {
   "cell_type": "code",
   "execution_count": null,
   "metadata": {},
   "outputs": [],
   "source": []
  },
  {
   "cell_type": "code",
   "execution_count": null,
   "metadata": {},
   "outputs": [],
   "source": []
  },
  {
   "cell_type": "code",
   "execution_count": null,
   "metadata": {},
   "outputs": [],
   "source": []
  },
  {
   "cell_type": "code",
   "execution_count": null,
   "metadata": {},
   "outputs": [],
   "source": []
  },
  {
   "cell_type": "code",
   "execution_count": null,
   "metadata": {},
   "outputs": [],
   "source": []
  },
  {
   "cell_type": "code",
   "execution_count": null,
   "metadata": {},
   "outputs": [],
   "source": []
  },
  {
   "cell_type": "code",
   "execution_count": null,
   "metadata": {},
   "outputs": [],
   "source": []
  },
  {
   "cell_type": "code",
   "execution_count": null,
   "metadata": {},
   "outputs": [],
   "source": []
  },
  {
   "cell_type": "code",
   "execution_count": null,
   "metadata": {},
   "outputs": [],
   "source": []
  },
  {
   "cell_type": "code",
   "execution_count": null,
   "metadata": {},
   "outputs": [],
   "source": []
  },
  {
   "cell_type": "code",
   "execution_count": null,
   "metadata": {},
   "outputs": [],
   "source": []
  },
  {
   "cell_type": "code",
   "execution_count": null,
   "metadata": {},
   "outputs": [],
   "source": [
    "# \n",
    "\n",
    "\n",
    "\n",
    "\n",
    "\n",
    "\n",
    "\n",
    "\n",
    "\n",
    "\n",
    "\n",
    "\n",
    "\n",
    "\n",
    "\n",
    "\n",
    "\n",
    "\n",
    "\n",
    "\n",
    "\n",
    "\n",
    "\n",
    "\n",
    "\n",
    "\n",
    "\n",
    "\n",
    "\n",
    "\n",
    "\n",
    "\n",
    "\n",
    "\n",
    "\n",
    "\n",
    "\n",
    "\n",
    "\n",
    "\n",
    "\n",
    "\n",
    "\n",
    "\n",
    "\n",
    "\n",
    "\n",
    "\n"
   ]
  }
 ],
 "metadata": {
  "kernelspec": {
   "display_name": "Python 2",
   "language": "python",
   "name": "python2"
  },
  "language_info": {
   "codemirror_mode": {
    "name": "ipython",
    "version": 2
   },
   "file_extension": ".py",
   "mimetype": "text/x-python",
   "name": "python",
   "nbconvert_exporter": "python",
   "pygments_lexer": "ipython2",
   "version": "2.7.6"
  }
 },
 "nbformat": 4,
 "nbformat_minor": 0
}
