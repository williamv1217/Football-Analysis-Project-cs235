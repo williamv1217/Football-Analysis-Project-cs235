{
 "cells": [
  {
   "cell_type": "code",
   "execution_count": 3,
   "metadata": {
    "collapsed": true
   },
   "outputs": [
    {
     "data": {
      "text/html": [
       "<script type=\"text/javascript\">window.PlotlyConfig = {MathJaxConfig: 'local'};</script><script type=\"text/javascript\">if (window.MathJax) {MathJax.Hub.Config({SVG: {font: \"STIX-Web\"}});}</script><script>requirejs.config({paths: { 'plotly': ['https://cdn.plot.ly/plotly-latest.min']},});if(!window._Plotly) {require(['plotly'],function(plotly) {window._Plotly=plotly;});}</script>"
      ],
      "text/plain": [
       "<script type=\"text/javascript\">window.PlotlyConfig = {MathJaxConfig: 'local'};</script><script type=\"text/javascript\">if (window.MathJax) {MathJax.Hub.Config({SVG: {font: \"STIX-Web\"}});}</script><script>requirejs.config({paths: { 'plotly': ['https://cdn.plot.ly/plotly-latest.min']},});if(!window._Plotly) {require(['plotly'],function(plotly) {window._Plotly=plotly;});}</script>"
      ]
     },
     "execution_count": 0,
     "metadata": {},
     "output_type": "execute_result"
    }
   ],
   "source": [
    "import plotly as py\n",
    "import plotly.graph_objs as go\n",
    "import pandas as pd\n",
    "\n",
    "py.offline.init_notebook_mode(connected=True)"
   ]
  },
  {
   "cell_type": "code",
   "execution_count": 4,
   "metadata": {},
   "outputs": [],
   "source": [
    "data = pd.read_csv('./football_events/merged.csv')"
   ]
  },
  {
   "cell_type": "code",
   "execution_count": 5,
   "metadata": {},
   "outputs": [
    {
     "name": "stdout",
     "output_type": "stream",
     "text": [
      "<class 'pandas.core.frame.DataFrame'>\nRangeIndex: 941009 entries, 0 to 941008\nData columns (total 33 columns):\nColumn           941009 non-null int64\nid_odsp          941009 non-null object\nid_event         941009 non-null object\nsort_order       941009 non-null int64\ntime             941009 non-null int64\ntext             941009 non-null object\nevent_type       941009 non-null int64\nevent_type2      214293 non-null float64\nside             941009 non-null int64\nevent_team       941009 non-null object\nopponent         941009 non-null object\nplayer           880009 non-null object\nplayer2          291310 non-null object\nshot_place       227459 non-null float64\nshot_outcome     228498 non-null float64\nis_goal          941009 non-null int64\nlocation         467067 non-null float64\nbodypart         229185 non-null float64\nassist_method    941009 non-null int64\nsituation        229137 non-null float64\nfast_break       941009 non-null int64\ndate             941009 non-null object\nseason           941009 non-null int64\nleague           941009 non-null object\nht               941009 non-null object\nat               941009 non-null object\nfthg             941009 non-null int64\nftag             941009 non-null int64\nodd_h            941009 non-null int64\nodd_d            941009 non-null int64\nodd_a            941009 non-null int64\nht_rank          941009 non-null object\nat_rank          941009 non-null object\ndtypes: float64(6), int64(14), object(13)\nmemory usage: 236.9+ MB\n"
     ]
    }
   ],
   "source": [
    "data.info()"
   ]
  },
  {
   "cell_type": "code",
   "execution_count": 105,
   "metadata": {},
   "outputs": [],
   "source": [
    "goal_home_top = data[(data['is_goal'] == 1) & (data['side'] == 1) & \n",
    "             (data['ht_rank'] == 'high')]['event_type'].sum()\n",
    "\n",
    "goal_away_top = data[(data['is_goal'] == 1) & (data['side'] == 2) & \n",
    "             (data['at_rank'] == 'high')]['event_type'].sum()"
   ]
  },
  {
   "cell_type": "code",
   "execution_count": 106,
   "metadata": {},
   "outputs": [],
   "source": [
    "goal_home_med = data[(data['is_goal'] == 1) & (data['side'] == 1) & \n",
    "             (data['ht_rank'] == 'med')]['event_type'].sum()\n",
    "\n",
    "goal_away_med = data[(data['is_goal'] == 1) & (data['side'] == 2) & \n",
    "             (data['at_rank'] == 'med')]['event_type'].sum()"
   ]
  },
  {
   "cell_type": "code",
   "execution_count": 107,
   "metadata": {},
   "outputs": [],
   "source": [
    "goal_home_low = data[(data['is_goal'] == 1) & (data['side'] == 1) & \n",
    "             (data['ht_rank'] == 'low')]['event_type'].sum()\n",
    "\n",
    "goal_away_low = data[(data['is_goal'] == 1) & (data['side'] == 2) & \n",
    "             (data['at_rank'] == 'low')]['event_type'].sum()"
   ]
  },
  {
   "cell_type": "code",
   "execution_count": 108,
   "metadata": {
    "collapsed": true
   },
   "outputs": [
    {
     "data": {
      "text/plain": [
       "5850"
      ]
     },
     "execution_count": 108,
     "metadata": {},
     "output_type": "execute_result"
    }
   ],
   "source": [
    "goal_home_top\n"
   ]
  },
  {
   "cell_type": "code",
   "execution_count": 109,
   "metadata": {},
   "outputs": [
    {
     "data": {
      "text/plain": [
       "4312"
      ]
     },
     "execution_count": 109,
     "metadata": {},
     "output_type": "execute_result"
    }
   ],
   "source": [
    "goal_away_top"
   ]
  },
  {
   "cell_type": "code",
   "execution_count": 124,
   "metadata": {},
   "outputs": [],
   "source": [
    "top_total_goals = goal_home_top + goal_away_top"
   ]
  },
  {
   "cell_type": "code",
   "execution_count": 111,
   "metadata": {},
   "outputs": [
    {
     "data": {
      "text/plain": [
       "4971"
      ]
     },
     "execution_count": 111,
     "metadata": {},
     "output_type": "execute_result"
    }
   ],
   "source": [
    "goal_home_med"
   ]
  },
  {
   "cell_type": "code",
   "execution_count": 112,
   "metadata": {},
   "outputs": [
    {
     "data": {
      "text/plain": [
       "3668"
      ]
     },
     "execution_count": 112,
     "metadata": {},
     "output_type": "execute_result"
    }
   ],
   "source": [
    "goal_away_med"
   ]
  },
  {
   "cell_type": "code",
   "execution_count": 125,
   "metadata": {},
   "outputs": [],
   "source": [
    "med_total_goals = goal_home_med + goal_away_med"
   ]
  },
  {
   "cell_type": "code",
   "execution_count": 114,
   "metadata": {},
   "outputs": [
    {
     "data": {
      "text/plain": [
       "3218"
      ]
     },
     "execution_count": 114,
     "metadata": {},
     "output_type": "execute_result"
    }
   ],
   "source": [
    "goal_home_low"
   ]
  },
  {
   "cell_type": "code",
   "execution_count": 115,
   "metadata": {},
   "outputs": [
    {
     "data": {
      "text/plain": [
       "2437"
      ]
     },
     "execution_count": 115,
     "metadata": {},
     "output_type": "execute_result"
    }
   ],
   "source": [
    "goal_away_low"
   ]
  },
  {
   "cell_type": "code",
   "execution_count": 126,
   "metadata": {},
   "outputs": [],
   "source": [
    "low_total_goals = goal_home_low + goal_away_low"
   ]
  },
  {
   "cell_type": "code",
   "execution_count": 146,
   "metadata": {},
   "outputs": [],
   "source": [
    "top_home_percent = round(goal_home_top/top_total_goals * 100, 2)\n",
    "med_home_percent = round(goal_home_med/med_total_goals * 100, 2)\n",
    "low_home_percent = round(goal_home_low/low_total_goals * 100, 2)\n",
    "\n",
    "top_away_percent = round(goal_away_top/top_total_goals * 100, 2)\n",
    "med_away_percent = round(goal_away_med/med_total_goals * 100, 2)\n",
    "low_away_percent = round(goal_away_low/low_total_goals * 100, 2)"
   ]
  },
  {
   "cell_type": "code",
   "execution_count": 147,
   "metadata": {},
   "outputs": [],
   "source": [
    "# def counts(data_type, data_value, team_rank):\n",
    "#     x = data[(data[data_type] == data_value) & (data['side'] == 1) & \n",
    "#              (data['ht_rank'] == team_rank)]\n",
    "#     y = data[(data[data_type] == data_value) & (data['side'] == 2) & \n",
    "#              (data['at_rank'] == team_rank)]\n",
    "#     x_count = x[data_type].value_counts().sum()\n",
    "#     y_count = y[data_type].value_counts().sum()\n",
    "#     return x_count + y_count\n"
   ]
  },
  {
   "cell_type": "code",
   "execution_count": 152,
   "metadata": {},
   "outputs": [],
   "source": [
    "home_goals_percents = [top_home_percent, med_home_percent, low_home_percent]\n",
    "away_goals_percents = [top_away_percent, med_away_percent, low_away_percent]"
   ]
  },
  {
   "cell_type": "code",
   "execution_count": 158,
   "metadata": {},
   "outputs": [
    {
     "data": {
      "text/plain": [
       "'file:///Users/William/Documents/School/gradSchool/2018/fall2018/cs235/project/home_away_goals.html'"
      ]
     },
     "execution_count": 158,
     "metadata": {},
     "output_type": "execute_result"
    }
   ],
   "source": [
    "goals_data_home = go.Bar(\n",
    "                x = ['Top teams', 'Mid teams', 'Bottom teams'],\n",
    "                y = [goal_home_top, goal_home_med, goal_home_low],\n",
    "                text= home_goals_percents,\n",
    "                textposition='auto',\n",
    "                name='Home')\n",
    "\n",
    "\n",
    "goals_data_away = go.Bar(\n",
    "                x = ['Top teams', 'Mid teams', 'Bottom teams'],\n",
    "                y = [goal_away_top, goal_away_med, goal_away_low],\n",
    "                text=away_goals_percents,\n",
    "                textposition='auto',\n",
    "                name='Away')\n",
    "goals_data = [goals_data_home, goals_data_away]\n",
    "layout = go.Layout(barmode='group')\n",
    "fig = go.Figure(data=goals_data, layout=layout)\n",
    "\n",
    "\n",
    "py.offline.plot(fig, auto_open=True, filename='home_away_goals.html')\n",
    "\n"
   ]
  },
  {
   "cell_type": "code",
   "execution_count": null,
   "metadata": {},
   "outputs": [],
   "source": []
  }
 ],
 "metadata": {
  "kernelspec": {
   "display_name": "Python 2",
   "language": "python",
   "name": "python2"
  },
  "language_info": {
   "codemirror_mode": {
    "name": "ipython",
    "version": 2
   },
   "file_extension": ".py",
   "mimetype": "text/x-python",
   "name": "python",
   "nbconvert_exporter": "python",
   "pygments_lexer": "ipython2",
   "version": "2.7.6"
  }
 },
 "nbformat": 4,
 "nbformat_minor": 0
}
